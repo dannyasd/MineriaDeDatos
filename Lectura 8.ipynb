{
 "cells": [
  {
   "cell_type": "markdown",
   "metadata": {},
   "source": [
    "# Aplicaciones de Minería de Datos I\n",
    "## Lectura 8: Sistemas de Recomendación"
   ]
  },
  {
   "cell_type": "code",
   "execution_count": 1,
   "metadata": {},
   "outputs": [],
   "source": [
    "import pandas as pd\n",
    "#Biblioteca de procesamiento natural del lenguaje\n",
    "import nltk\n",
    "import numpy as np\n",
    "from sklearn.feature_extraction.text import TfidfVectorizer\n",
    "from sklearn.ensemble import RandomForestRegressor\n",
    "from sklearn.metrics import mean_squared_error\n",
    "#Importar bibliotecas de tratamiento de texto\n",
    "#sklearn.feature_extraction.text extraer características, mediante el clase CountVectorizer\n",
    "from sklearn.feature_extraction.text import CountVectorizer\n",
    "from sklearn.metrics.pairwise import *\n",
    "from sklearn.tree import DecisionTreeClassifier\n",
    "from sklearn.model_selection import train_test_split"
   ]
  },
  {
   "cell_type": "code",
   "execution_count": 2,
   "metadata": {},
   "outputs": [],
   "source": [
    "#Conjunto de datos secuencial\n",
    "dataset = pd.read_csv('https://alhernandezsua.gitlab.io/amd-misti/datasets/CSDMC_API_Train.csv')"
   ]
  },
  {
   "cell_type": "code",
   "execution_count": 3,
   "metadata": {},
   "outputs": [
    {
     "data": {
      "text/html": [
       "<div>\n",
       "<style scoped>\n",
       "    .dataframe tbody tr th:only-of-type {\n",
       "        vertical-align: middle;\n",
       "    }\n",
       "\n",
       "    .dataframe tbody tr th {\n",
       "        vertical-align: top;\n",
       "    }\n",
       "\n",
       "    .dataframe thead th {\n",
       "        text-align: right;\n",
       "    }\n",
       "</style>\n",
       "<table border=\"1\" class=\"dataframe\">\n",
       "  <thead>\n",
       "    <tr style=\"text-align: right;\">\n",
       "      <th></th>\n",
       "      <th>y</th>\n",
       "      <th>x</th>\n",
       "    </tr>\n",
       "  </thead>\n",
       "  <tbody>\n",
       "    <tr>\n",
       "      <th>0</th>\n",
       "      <td>1</td>\n",
       "      <td>LoadLibraryW HeapAlloc HeapAlloc HeapFree Heap...</td>\n",
       "    </tr>\n",
       "    <tr>\n",
       "      <th>1</th>\n",
       "      <td>1</td>\n",
       "      <td>RegOpenKeyExW LoadLibraryA GetProcAddress GetP...</td>\n",
       "    </tr>\n",
       "    <tr>\n",
       "      <th>2</th>\n",
       "      <td>1</td>\n",
       "      <td>HeapAlloc HeapFree HeapAlloc HeapAlloc HeapFre...</td>\n",
       "    </tr>\n",
       "    <tr>\n",
       "      <th>3</th>\n",
       "      <td>1</td>\n",
       "      <td>HeapAlloc HeapFree HeapAlloc HeapAlloc HeapFre...</td>\n",
       "    </tr>\n",
       "    <tr>\n",
       "      <th>4</th>\n",
       "      <td>1</td>\n",
       "      <td>HeapAlloc HeapFree HeapAlloc HeapAlloc HeapFre...</td>\n",
       "    </tr>\n",
       "  </tbody>\n",
       "</table>\n",
       "</div>"
      ],
      "text/plain": [
       "   y                                                  x\n",
       "0  1  LoadLibraryW HeapAlloc HeapAlloc HeapFree Heap...\n",
       "1  1  RegOpenKeyExW LoadLibraryA GetProcAddress GetP...\n",
       "2  1  HeapAlloc HeapFree HeapAlloc HeapAlloc HeapFre...\n",
       "3  1  HeapAlloc HeapFree HeapAlloc HeapAlloc HeapFre...\n",
       "4  1  HeapAlloc HeapFree HeapAlloc HeapAlloc HeapFre..."
      ]
     },
     "execution_count": 3,
     "metadata": {},
     "output_type": "execute_result"
    }
   ],
   "source": [
    "dataset.head()"
   ]
  },
  {
   "cell_type": "code",
   "execution_count": 4,
   "metadata": {},
   "outputs": [],
   "source": [
    "# Transformar la columna x en una lista\n",
    "valores = dataset['x'].values"
   ]
  },
  {
   "cell_type": "code",
   "execution_count": 5,
   "metadata": {},
   "outputs": [],
   "source": [
    "#Juntar todas las secuencias de cada muestra\n",
    "palabras = ' '.join([palabra for palabra in valores])\n",
    "#Dividir la secuencia en palabras (términos)\n",
    "tokens = [p.split(' ') for p in valores]"
   ]
  },
  {
   "cell_type": "code",
   "execution_count": 6,
   "metadata": {},
   "outputs": [],
   "source": [
    "#FreqDist calcula la frecuencia absoluta de cada palabra única\n",
    "frecc = nltk.FreqDist(palabras.split(' '))"
   ]
  },
  {
   "cell_type": "code",
   "execution_count": 7,
   "metadata": {},
   "outputs": [],
   "source": [
    "vocabulario =  []\n",
    "for api32, valor in frecc.items():\n",
    "    if api32 !='':\n",
    "        vocabulario.append(api32)\n"
   ]
  },
  {
   "cell_type": "code",
   "execution_count": 8,
   "metadata": {},
   "outputs": [
    {
     "data": {
      "text/plain": [
       "298"
      ]
     },
     "execution_count": 8,
     "metadata": {},
     "output_type": "execute_result"
    }
   ],
   "source": [
    "#Longitud del vocabulario\n",
    "len(frecc.items())"
   ]
  },
  {
   "cell_type": "markdown",
   "metadata": {},
   "source": [
    "# One-hot-encoding"
   ]
  },
  {
   "cell_type": "code",
   "execution_count": 9,
   "metadata": {},
   "outputs": [],
   "source": [
    "bow = CountVectorizer()\n",
    "bow.fit(valores)\n",
    "X = bow.transform(valores)"
   ]
  },
  {
   "cell_type": "code",
   "execution_count": 10,
   "metadata": {},
   "outputs": [
    {
     "data": {
      "text/plain": [
       "388"
      ]
     },
     "execution_count": 10,
     "metadata": {},
     "output_type": "execute_result"
    }
   ],
   "source": [
    "len(valores)"
   ]
  },
  {
   "cell_type": "code",
   "execution_count": 11,
   "metadata": {},
   "outputs": [],
   "source": [
    "matriz_numeros = X.toarray()"
   ]
  },
  {
   "cell_type": "code",
   "execution_count": 12,
   "metadata": {},
   "outputs": [],
   "source": [
    "X_arr = X.toarray()"
   ]
  },
  {
   "cell_type": "code",
   "execution_count": 13,
   "metadata": {},
   "outputs": [],
   "source": [
    "#for muestra in matriz_numeros:\n",
    "#    print(cosine_distances([matriz_numeros[0]],[muestra]))"
   ]
  },
  {
   "cell_type": "markdown",
   "metadata": {},
   "source": [
    "### Ejemplo con árboles de desición"
   ]
  },
  {
   "cell_type": "code",
   "execution_count": 14,
   "metadata": {},
   "outputs": [],
   "source": [
    "y = dataset['y']"
   ]
  },
  {
   "cell_type": "code",
   "execution_count": 15,
   "metadata": {},
   "outputs": [],
   "source": [
    "X_train, X_test, y_train, y_test = train_test_split(matriz_numeros,y,train_size=.8)"
   ]
  },
  {
   "cell_type": "code",
   "execution_count": 16,
   "metadata": {},
   "outputs": [
    {
     "data": {
      "text/plain": [
       "DecisionTreeClassifier(criterion='entropy', max_depth=3)"
      ]
     },
     "execution_count": 16,
     "metadata": {},
     "output_type": "execute_result"
    }
   ],
   "source": [
    "arbolito = DecisionTreeClassifier(criterion='entropy',max_depth=3)\n",
    "arbolito.fit(X_train,y_train)"
   ]
  },
  {
   "cell_type": "code",
   "execution_count": 17,
   "metadata": {},
   "outputs": [
    {
     "data": {
      "text/plain": [
       "92.3076923076923"
      ]
     },
     "execution_count": 17,
     "metadata": {},
     "output_type": "execute_result"
    }
   ],
   "source": [
    "arbolito.score(X_test,y_test)*100"
   ]
  },
  {
   "cell_type": "markdown",
   "metadata": {},
   "source": [
    "## Ejemplo con TF-IDF (term-frequency inverse-document-frequency)"
   ]
  },
  {
   "cell_type": "code",
   "execution_count": 18,
   "metadata": {},
   "outputs": [],
   "source": [
    "from sklearn.feature_extraction.text import TfidfVectorizer"
   ]
  },
  {
   "cell_type": "code",
   "execution_count": 19,
   "metadata": {},
   "outputs": [],
   "source": [
    "vec = TfidfVectorizer()\n",
    "X_vec = vec.fit_transform(dataset['x'])"
   ]
  },
  {
   "cell_type": "code",
   "execution_count": 20,
   "metadata": {},
   "outputs": [
    {
     "data": {
      "text/plain": [
       "(388, 313)"
      ]
     },
     "execution_count": 20,
     "metadata": {},
     "output_type": "execute_result"
    }
   ],
   "source": [
    "X_vec.shape"
   ]
  },
  {
   "cell_type": "code",
   "execution_count": 21,
   "metadata": {},
   "outputs": [],
   "source": [
    "#vec.vocabulary_"
   ]
  },
  {
   "cell_type": "code",
   "execution_count": 22,
   "metadata": {},
   "outputs": [],
   "source": [
    "X_vec_arr = X_vec.toarray()"
   ]
  },
  {
   "cell_type": "code",
   "execution_count": 23,
   "metadata": {},
   "outputs": [],
   "source": [
    "#Distancia del coseno\n",
    "#for muestra in X_vec_arr:\n",
    "#    print(cosine_distances([X_vec_arr[1]],[muestra]))"
   ]
  },
  {
   "cell_type": "code",
   "execution_count": 24,
   "metadata": {},
   "outputs": [],
   "source": [
    "#Pruebas con TF-IDF\n",
    "X_train, X_test, y_train, y_test = train_test_split(X_vec_arr,y,train_size=.8)"
   ]
  },
  {
   "cell_type": "code",
   "execution_count": 25,
   "metadata": {},
   "outputs": [
    {
     "data": {
      "text/plain": [
       "DecisionTreeClassifier(criterion='entropy', max_depth=3)"
      ]
     },
     "execution_count": 25,
     "metadata": {},
     "output_type": "execute_result"
    }
   ],
   "source": [
    "arbolito = DecisionTreeClassifier(criterion='entropy',max_depth=3)\n",
    "arbolito.fit(X_train,y_train)"
   ]
  },
  {
   "cell_type": "code",
   "execution_count": 26,
   "metadata": {},
   "outputs": [
    {
     "data": {
      "text/plain": [
       "97.43589743589743"
      ]
     },
     "execution_count": 26,
     "metadata": {},
     "output_type": "execute_result"
    }
   ],
   "source": [
    "arbolito.score(X_test,y_test)*100"
   ]
  },
  {
   "cell_type": "markdown",
   "metadata": {},
   "source": [
    "### Ejemplo de un sistema básico de recomendación\n",
    "\n",
    "<p>El Regresor de Bosque Aleatorio es un algoritmo de aprendizaje automático utilizado para tareas de regresión, donde el objetivo es predecir resultados continuos. Es una técnica de aprendizaje en conjunto que opera mediante la construcción de una multitud de árboles de decisión durante el entrenamiento y la emisión de la predicción media de los árboles individuales.</p>"
   ]
  },
  {
   "cell_type": "code",
   "execution_count": 27,
   "metadata": {},
   "outputs": [
    {
     "name": "stdout",
     "output_type": "stream",
     "text": [
      "Ranking predicho para la nueva vulnerabilidad: 7.9\n"
     ]
    }
   ],
   "source": [
    "\n",
    "# Ejemplo de datos\n",
    "descripciones = [\n",
    "    \"El software X antes de la versión 2.0.4 tiene una vulnerabilidad de ejecución de código remoto\",\n",
    "    \"La aplicación Y en la versión 1.1.1 permite escalada de privilegios a través de la red local\",\n",
    "    \"Vulnerabilidad de denegación de servicio en el dispositivo Z cuando se manejan paquetes malformados\"\n",
    "]\n",
    "rankings = [8.5, 7.0, 9.0]  # Supongamos que estos son los rankings de las vulnerabilidades\n",
    "\n",
    "# Convertir textos a un formato numérico usando TF-IDF\n",
    "vectorizer = TfidfVectorizer()\n",
    "X = vectorizer.fit_transform(descripciones)\n",
    "\n",
    "# Dividir los datos en conjuntos de entrenamiento y prueba\n",
    "X_train, X_test, y_train, y_test = train_test_split(X, rankings, test_size=0.2, random_state=42)\n",
    "\n",
    "# Entrenar un modelo de regresión\n",
    "model = RandomForestRegressor(n_estimators=100, random_state=42)\n",
    "model.fit(X_train, y_train)\n",
    "\n",
    "# Función para predecir el ranking de una nueva descripción\n",
    "def predecir_ranking(nueva_descripcion):\n",
    "    nueva_descripcion_transformada = vectorizer.transform([nueva_descripcion])\n",
    "    ranking_predicho = model.predict(nueva_descripcion_transformada)\n",
    "    return ranking_predicho[0]\n",
    "\n",
    "# Usar la función para predecir un nuevo ranking\n",
    "nueva_descripcion = \"Nueva vulnerabilidad descubierta en la aplicación Y que permite acceso remoto\"\n",
    "predicted_ranking = predecir_ranking(nueva_descripcion)\n",
    "print(f\"Ranking predicho para la nueva vulnerabilidad: {predicted_ranking}\")\n"
   ]
  },
  {
   "cell_type": "markdown",
   "metadata": {},
   "source": [
    "### Ejercicio\n",
    "\n",
    "<p>El conjunto de datos presentado incluye diversas CVEs identificadas a lo largo del año 2019. Realiza un análisis comparativo entre una muestra seleccionada y las restantes, identificando aquellas que presenten mayor similitud basada en el cálculo de la similitud del coseno. Para ello, emplea la transformación de tipo TF-IDF.</p>"
   ]
  },
  {
   "cell_type": "code",
   "execution_count": 33,
   "metadata": {},
   "outputs": [],
   "source": [
    "#Conjunto de datos secuencial\n",
    "dataset_cve = pd.read_csv('https://alhernandezsua.gitlab.io/amd-misti/datasets/CVEs.csv')"
   ]
  },
  {
   "cell_type": "code",
   "execution_count": 34,
   "metadata": {},
   "outputs": [
    {
     "data": {
      "text/html": [
       "<div>\n",
       "<style scoped>\n",
       "    .dataframe tbody tr th:only-of-type {\n",
       "        vertical-align: middle;\n",
       "    }\n",
       "\n",
       "    .dataframe tbody tr th {\n",
       "        vertical-align: top;\n",
       "    }\n",
       "\n",
       "    .dataframe thead th {\n",
       "        text-align: right;\n",
       "    }\n",
       "</style>\n",
       "<table border=\"1\" class=\"dataframe\">\n",
       "  <thead>\n",
       "    <tr style=\"text-align: right;\">\n",
       "      <th></th>\n",
       "      <th>Unnamed: 0</th>\n",
       "      <th>name</th>\n",
       "      <th>summary</th>\n",
       "      <th>index</th>\n",
       "    </tr>\n",
       "  </thead>\n",
       "  <tbody>\n",
       "    <tr>\n",
       "      <th>0</th>\n",
       "      <td>0</td>\n",
       "      <td>CVE-2019-9999</td>\n",
       "      <td>** RESERVED ** This candidate has been reserve...</td>\n",
       "      <td>1.0</td>\n",
       "    </tr>\n",
       "    <tr>\n",
       "      <th>1</th>\n",
       "      <td>1</td>\n",
       "      <td>CVE-2019-9998</td>\n",
       "      <td>** RESERVED ** This candidate has been reserve...</td>\n",
       "      <td>2.0</td>\n",
       "    </tr>\n",
       "    <tr>\n",
       "      <th>2</th>\n",
       "      <td>2</td>\n",
       "      <td>CVE-2019-9997</td>\n",
       "      <td>** RESERVED ** This candidate has been reserve...</td>\n",
       "      <td>3.0</td>\n",
       "    </tr>\n",
       "    <tr>\n",
       "      <th>3</th>\n",
       "      <td>3</td>\n",
       "      <td>CVE-2019-9996</td>\n",
       "      <td>** RESERVED ** This candidate has been reserve...</td>\n",
       "      <td>4.0</td>\n",
       "    </tr>\n",
       "    <tr>\n",
       "      <th>4</th>\n",
       "      <td>4</td>\n",
       "      <td>CVE-2019-9995</td>\n",
       "      <td>** RESERVED ** This candidate has been reserve...</td>\n",
       "      <td>5.0</td>\n",
       "    </tr>\n",
       "  </tbody>\n",
       "</table>\n",
       "</div>"
      ],
      "text/plain": [
       "   Unnamed: 0           name  \\\n",
       "0           0  CVE-2019-9999   \n",
       "1           1  CVE-2019-9998   \n",
       "2           2  CVE-2019-9997   \n",
       "3           3  CVE-2019-9996   \n",
       "4           4  CVE-2019-9995   \n",
       "\n",
       "                                             summary  index  \n",
       "0  ** RESERVED ** This candidate has been reserve...    1.0  \n",
       "1  ** RESERVED ** This candidate has been reserve...    2.0  \n",
       "2  ** RESERVED ** This candidate has been reserve...    3.0  \n",
       "3  ** RESERVED ** This candidate has been reserve...    4.0  \n",
       "4  ** RESERVED ** This candidate has been reserve...    5.0  "
      ]
     },
     "execution_count": 34,
     "metadata": {},
     "output_type": "execute_result"
    }
   ],
   "source": [
    "dataset_cve.head()"
   ]
  },
  {
   "cell_type": "code",
   "execution_count": null,
   "metadata": {},
   "outputs": [],
   "source": []
  }
 ],
 "metadata": {
  "kernelspec": {
   "display_name": "Python 3",
   "language": "python",
   "name": "python3"
  },
  "language_info": {
   "codemirror_mode": {
    "name": "ipython",
    "version": 3
   },
   "file_extension": ".py",
   "mimetype": "text/x-python",
   "name": "python",
   "nbconvert_exporter": "python",
   "pygments_lexer": "ipython3",
   "version": "3.7.6"
  }
 },
 "nbformat": 4,
 "nbformat_minor": 4
}
